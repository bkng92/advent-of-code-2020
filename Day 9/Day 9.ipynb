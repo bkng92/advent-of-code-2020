{
 "cells": [
  {
   "cell_type": "code",
   "execution_count": 1,
   "metadata": {},
   "outputs": [],
   "source": [
    "import itertools"
   ]
  },
  {
   "cell_type": "code",
   "execution_count": 2,
   "metadata": {},
   "outputs": [],
   "source": [
    "with open('i.txt') as file:\n",
    "    nums = file.read().split('\\n')"
   ]
  },
  {
   "cell_type": "code",
   "execution_count": 3,
   "metadata": {},
   "outputs": [],
   "source": [
    "nums = [int(num) for num in nums]"
   ]
  },
  {
   "cell_type": "code",
   "execution_count": 4,
   "metadata": {},
   "outputs": [],
   "source": [
    "preamble_l = 25"
   ]
  },
  {
   "cell_type": "code",
   "execution_count": 5,
   "metadata": {},
   "outputs": [],
   "source": [
    "def check_validity(num,num_range):\n",
    "    for x, y in itertools.combinations(num_range,2):\n",
    "        if x + y == num: return True\n",
    "    return False"
   ]
  },
  {
   "cell_type": "code",
   "execution_count": 21,
   "metadata": {},
   "outputs": [
    {
     "name": "stdout",
     "output_type": "stream",
     "text": [
      "776203571\n"
     ]
    }
   ],
   "source": [
    "invalid_num = None\n",
    "for i, num in enumerate(nums[preamble_l:],preamble_l):\n",
    "    if not check_validity(num,nums[i-preamble_l:i]): \n",
    "        invalid_num = num\n",
    "        print(invalid_num)\n",
    "        break"
   ]
  },
  {
   "cell_type": "code",
   "execution_count": 26,
   "metadata": {},
   "outputs": [
    {
     "name": "stdout",
     "output_type": "stream",
     "text": [
      "104800569\n"
     ]
    }
   ],
   "source": [
    "current_sum = nums[0]\n",
    "start = 0\n",
    "end = 0\n",
    "\n",
    "while True:\n",
    "    current_sum = sum(nums[start:end])\n",
    "    if current_sum < invalid_num: end += 1\n",
    "    elif current_sum > invalid_num: start += 1\n",
    "    else: \n",
    "        print(min(nums[start:end]) + max(nums[start:end]))\n",
    "        break\n"
   ]
  },
  {
   "cell_type": "code",
   "execution_count": null,
   "metadata": {},
   "outputs": [],
   "source": []
  }
 ],
 "metadata": {
  "kernelspec": {
   "display_name": "Python 3",
   "language": "python",
   "name": "python3"
  },
  "language_info": {
   "codemirror_mode": {
    "name": "ipython",
    "version": 3
   },
   "file_extension": ".py",
   "mimetype": "text/x-python",
   "name": "python",
   "nbconvert_exporter": "python",
   "pygments_lexer": "ipython3",
   "version": "3.7.4"
  }
 },
 "nbformat": 4,
 "nbformat_minor": 2
}
