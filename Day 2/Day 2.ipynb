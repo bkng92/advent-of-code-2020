{
 "cells": [
  {
   "cell_type": "code",
   "execution_count": 1,
   "metadata": {},
   "outputs": [],
   "source": [
    "import csv\n",
    "import pandas as pd"
   ]
  },
  {
   "cell_type": "code",
   "execution_count": 6,
   "metadata": {},
   "outputs": [],
   "source": [
    "data = pd.read_csv('q2.csv', sep=' ', names=('Range','Letter','Password'))\n",
    "data['Letter']=data['Letter'].str.split(pat=':',expand=True)\n",
    "data['Range']=data['Range'].str.split(pat='-')"
   ]
  },
  {
   "cell_type": "code",
   "execution_count": 7,
   "metadata": {},
   "outputs": [
    {
     "data": {
      "text/html": [
       "<div>\n",
       "<style scoped>\n",
       "    .dataframe tbody tr th:only-of-type {\n",
       "        vertical-align: middle;\n",
       "    }\n",
       "\n",
       "    .dataframe tbody tr th {\n",
       "        vertical-align: top;\n",
       "    }\n",
       "\n",
       "    .dataframe thead th {\n",
       "        text-align: right;\n",
       "    }\n",
       "</style>\n",
       "<table border=\"1\" class=\"dataframe\">\n",
       "  <thead>\n",
       "    <tr style=\"text-align: right;\">\n",
       "      <th></th>\n",
       "      <th>Range</th>\n",
       "      <th>Letter</th>\n",
       "      <th>Password</th>\n",
       "    </tr>\n",
       "  </thead>\n",
       "  <tbody>\n",
       "    <tr>\n",
       "      <td>0</td>\n",
       "      <td>[5, 10]</td>\n",
       "      <td>b</td>\n",
       "      <td>bhbjlkbbbbbbb</td>\n",
       "    </tr>\n",
       "    <tr>\n",
       "      <td>1</td>\n",
       "      <td>[3, 4]</td>\n",
       "      <td>j</td>\n",
       "      <td>hjvj</td>\n",
       "    </tr>\n",
       "    <tr>\n",
       "      <td>2</td>\n",
       "      <td>[8, 9]</td>\n",
       "      <td>p</td>\n",
       "      <td>pmljtsttp</td>\n",
       "    </tr>\n",
       "    <tr>\n",
       "      <td>3</td>\n",
       "      <td>[3, 4]</td>\n",
       "      <td>t</td>\n",
       "      <td>hvtttqhdjmmnbqwbgfs</td>\n",
       "    </tr>\n",
       "    <tr>\n",
       "      <td>4</td>\n",
       "      <td>[4, 6]</td>\n",
       "      <td>m</td>\n",
       "      <td>mblwtzmvmdjkkmmtsckm</td>\n",
       "    </tr>\n",
       "    <tr>\n",
       "      <td>...</td>\n",
       "      <td>...</td>\n",
       "      <td>...</td>\n",
       "      <td>...</td>\n",
       "    </tr>\n",
       "    <tr>\n",
       "      <td>995</td>\n",
       "      <td>[16, 18]</td>\n",
       "      <td>d</td>\n",
       "      <td>gxzglqmddffqxqvppr</td>\n",
       "    </tr>\n",
       "    <tr>\n",
       "      <td>996</td>\n",
       "      <td>[4, 6]</td>\n",
       "      <td>f</td>\n",
       "      <td>fffmfff</td>\n",
       "    </tr>\n",
       "    <tr>\n",
       "      <td>997</td>\n",
       "      <td>[13, 16]</td>\n",
       "      <td>m</td>\n",
       "      <td>zfmcnzxfvmcmqmhcctv</td>\n",
       "    </tr>\n",
       "    <tr>\n",
       "      <td>998</td>\n",
       "      <td>[1, 8]</td>\n",
       "      <td>n</td>\n",
       "      <td>nnnnnnnm</td>\n",
       "    </tr>\n",
       "    <tr>\n",
       "      <td>999</td>\n",
       "      <td>[8, 9]</td>\n",
       "      <td>v</td>\n",
       "      <td>vvvvvvvvvg</td>\n",
       "    </tr>\n",
       "  </tbody>\n",
       "</table>\n",
       "<p>1000 rows × 3 columns</p>\n",
       "</div>"
      ],
      "text/plain": [
       "        Range Letter              Password\n",
       "0     [5, 10]      b         bhbjlkbbbbbbb\n",
       "1      [3, 4]      j                  hjvj\n",
       "2      [8, 9]      p             pmljtsttp\n",
       "3      [3, 4]      t   hvtttqhdjmmnbqwbgfs\n",
       "4      [4, 6]      m  mblwtzmvmdjkkmmtsckm\n",
       "..        ...    ...                   ...\n",
       "995  [16, 18]      d    gxzglqmddffqxqvppr\n",
       "996    [4, 6]      f               fffmfff\n",
       "997  [13, 16]      m   zfmcnzxfvmcmqmhcctv\n",
       "998    [1, 8]      n              nnnnnnnm\n",
       "999    [8, 9]      v            vvvvvvvvvg\n",
       "\n",
       "[1000 rows x 3 columns]"
      ]
     },
     "execution_count": 7,
     "metadata": {},
     "output_type": "execute_result"
    }
   ],
   "source": [
    "data"
   ]
  },
  {
   "cell_type": "code",
   "execution_count": 9,
   "metadata": {},
   "outputs": [
    {
     "name": "stdout",
     "output_type": "stream",
     "text": [
      "439\n"
     ]
    }
   ],
   "source": [
    "count = 0\n",
    "for i, row in data.iterrows():\n",
    "    letter = row['Letter']\n",
    "    password = row['Password']\n",
    "    ll = int(row['Range'][0])\n",
    "    ul = int(row['Range'][1])\n",
    "    if password.count(letter) >= ll and password.count(letter) <= ul:\n",
    "        count+=1\n",
    "print(count)"
   ]
  },
  {
   "cell_type": "code",
   "execution_count": 10,
   "metadata": {},
   "outputs": [
    {
     "name": "stdout",
     "output_type": "stream",
     "text": [
      "584\n"
     ]
    }
   ],
   "source": [
    "count = 0\n",
    "for i, row in data.iterrows():\n",
    "    letter = row['Letter']\n",
    "    password = row['Password']\n",
    "    ll = int(row['Range'][0])\n",
    "    ul = int(row['Range'][1])\n",
    "    if (password[ll-1] == letter) + (password[ul-1] == letter) == 1:\n",
    "        count+=1\n",
    "print(count)"
   ]
  },
  {
   "cell_type": "code",
   "execution_count": null,
   "metadata": {},
   "outputs": [],
   "source": []
  }
 ],
 "metadata": {
  "kernelspec": {
   "display_name": "Python 3",
   "language": "python",
   "name": "python3"
  },
  "language_info": {
   "codemirror_mode": {
    "name": "ipython",
    "version": 3
   },
   "file_extension": ".py",
   "mimetype": "text/x-python",
   "name": "python",
   "nbconvert_exporter": "python",
   "pygments_lexer": "ipython3",
   "version": "3.7.4"
  }
 },
 "nbformat": 4,
 "nbformat_minor": 2
}
