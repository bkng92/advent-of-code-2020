{
 "cells": [
  {
   "cell_type": "code",
   "execution_count": 1,
   "metadata": {},
   "outputs": [],
   "source": [
    "import csv\n",
    "import pandas as pd"
   ]
  },
  {
   "cell_type": "code",
   "execution_count": 2,
   "metadata": {},
   "outputs": [],
   "source": [
    "data = pd.read_csv('q2.csv', sep=' ', names=('Range','Letter'), index_col=2)\n",
    "data['Letter']=data['Letter'].str.split(pat=':',expand=True)\n",
    "data['Range']=data['Range'].str.split(pat='-')"
   ]
  },
  {
   "cell_type": "code",
   "execution_count": 3,
   "metadata": {},
   "outputs": [
    {
     "data": {
      "text/html": [
       "<div>\n",
       "<style scoped>\n",
       "    .dataframe tbody tr th:only-of-type {\n",
       "        vertical-align: middle;\n",
       "    }\n",
       "\n",
       "    .dataframe tbody tr th {\n",
       "        vertical-align: top;\n",
       "    }\n",
       "\n",
       "    .dataframe thead th {\n",
       "        text-align: right;\n",
       "    }\n",
       "</style>\n",
       "<table border=\"1\" class=\"dataframe\">\n",
       "  <thead>\n",
       "    <tr style=\"text-align: right;\">\n",
       "      <th></th>\n",
       "      <th>Range</th>\n",
       "      <th>Letter</th>\n",
       "    </tr>\n",
       "  </thead>\n",
       "  <tbody>\n",
       "    <tr>\n",
       "      <td>bhbjlkbbbbbbb</td>\n",
       "      <td>[5, 10]</td>\n",
       "      <td>b</td>\n",
       "    </tr>\n",
       "    <tr>\n",
       "      <td>hjvj</td>\n",
       "      <td>[3, 4]</td>\n",
       "      <td>j</td>\n",
       "    </tr>\n",
       "    <tr>\n",
       "      <td>pmljtsttp</td>\n",
       "      <td>[8, 9]</td>\n",
       "      <td>p</td>\n",
       "    </tr>\n",
       "    <tr>\n",
       "      <td>hvtttqhdjmmnbqwbgfs</td>\n",
       "      <td>[3, 4]</td>\n",
       "      <td>t</td>\n",
       "    </tr>\n",
       "    <tr>\n",
       "      <td>mblwtzmvmdjkkmmtsckm</td>\n",
       "      <td>[4, 6]</td>\n",
       "      <td>m</td>\n",
       "    </tr>\n",
       "    <tr>\n",
       "      <td>...</td>\n",
       "      <td>...</td>\n",
       "      <td>...</td>\n",
       "    </tr>\n",
       "    <tr>\n",
       "      <td>gxzglqmddffqxqvppr</td>\n",
       "      <td>[16, 18]</td>\n",
       "      <td>d</td>\n",
       "    </tr>\n",
       "    <tr>\n",
       "      <td>fffmfff</td>\n",
       "      <td>[4, 6]</td>\n",
       "      <td>f</td>\n",
       "    </tr>\n",
       "    <tr>\n",
       "      <td>zfmcnzxfvmcmqmhcctv</td>\n",
       "      <td>[13, 16]</td>\n",
       "      <td>m</td>\n",
       "    </tr>\n",
       "    <tr>\n",
       "      <td>nnnnnnnm</td>\n",
       "      <td>[1, 8]</td>\n",
       "      <td>n</td>\n",
       "    </tr>\n",
       "    <tr>\n",
       "      <td>vvvvvvvvvg</td>\n",
       "      <td>[8, 9]</td>\n",
       "      <td>v</td>\n",
       "    </tr>\n",
       "  </tbody>\n",
       "</table>\n",
       "<p>1000 rows × 2 columns</p>\n",
       "</div>"
      ],
      "text/plain": [
       "                         Range Letter\n",
       "bhbjlkbbbbbbb          [5, 10]      b\n",
       "hjvj                    [3, 4]      j\n",
       "pmljtsttp               [8, 9]      p\n",
       "hvtttqhdjmmnbqwbgfs     [3, 4]      t\n",
       "mblwtzmvmdjkkmmtsckm    [4, 6]      m\n",
       "...                        ...    ...\n",
       "gxzglqmddffqxqvppr    [16, 18]      d\n",
       "fffmfff                 [4, 6]      f\n",
       "zfmcnzxfvmcmqmhcctv   [13, 16]      m\n",
       "nnnnnnnm                [1, 8]      n\n",
       "vvvvvvvvvg              [8, 9]      v\n",
       "\n",
       "[1000 rows x 2 columns]"
      ]
     },
     "execution_count": 3,
     "metadata": {},
     "output_type": "execute_result"
    }
   ],
   "source": [
    "data"
   ]
  },
  {
   "cell_type": "code",
   "execution_count": 4,
   "metadata": {},
   "outputs": [
    {
     "name": "stdout",
     "output_type": "stream",
     "text": [
      "439\n"
     ]
    }
   ],
   "source": [
    "count = 0\n",
    "for password, row in data.iterrows():\n",
    "    letter = row['Letter']\n",
    "    ll = int(row['Range'][0])\n",
    "    ul = int(row['Range'][1])\n",
    "    if password.count(letter) >= ll and password.count(letter) <= ul:\n",
    "        count+=1\n",
    "print(count)"
   ]
  },
  {
   "cell_type": "code",
   "execution_count": 5,
   "metadata": {},
   "outputs": [
    {
     "name": "stdout",
     "output_type": "stream",
     "text": [
      "584\n"
     ]
    }
   ],
   "source": [
    "count = 0\n",
    "for password, row in data.iterrows():\n",
    "    letter = row['Letter']\n",
    "    ll = int(row['Range'][0])\n",
    "    ul = int(row['Range'][1])\n",
    "    if (password[ll-1] == letter) + (password[ul-1] == letter) == 1:\n",
    "        count+=1\n",
    "print(count)"
   ]
  }
 ],
 "metadata": {
  "kernelspec": {
   "display_name": "Python 3",
   "language": "python",
   "name": "python3"
  },
  "language_info": {
   "codemirror_mode": {
    "name": "ipython",
    "version": 3
   },
   "file_extension": ".py",
   "mimetype": "text/x-python",
   "name": "python",
   "nbconvert_exporter": "python",
   "pygments_lexer": "ipython3",
   "version": "3.7.4"
  }
 },
 "nbformat": 4,
 "nbformat_minor": 2
}
