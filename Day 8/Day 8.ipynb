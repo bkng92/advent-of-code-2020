{
 "cells": [
  {
   "cell_type": "code",
   "execution_count": 1,
   "metadata": {},
   "outputs": [],
   "source": [
    "from collections import defaultdict\n",
    "import copy"
   ]
  },
  {
   "cell_type": "code",
   "execution_count": 2,
   "metadata": {},
   "outputs": [],
   "source": [
    "with open('i.txt') as file:\n",
    "    instructions = file.read().split('\\n')"
   ]
  },
  {
   "cell_type": "code",
   "execution_count": 3,
   "metadata": {},
   "outputs": [],
   "source": [
    "instructions = [(ins.split()[0], int(ins.split()[1])) for ins in instructions]"
   ]
  },
  {
   "cell_type": "code",
   "execution_count": 4,
   "metadata": {},
   "outputs": [],
   "source": [
    "program = defaultdict(dict)\n",
    "for step, instruction in enumerate(instructions):\n",
    "    program[step]['op'] = instruction[0]\n",
    "    program[step]['ar'] = instruction[1]\n",
    "    program[step]['visited'] = False   "
   ]
  },
  {
   "cell_type": "code",
   "execution_count": 5,
   "metadata": {},
   "outputs": [],
   "source": [
    "def run_program(program, step = 0, accumulator = 0):\n",
    "    switcher = {\n",
    "        'nop': lambda step, accumulator: (step + 1, accumulator),\n",
    "        'jmp': lambda step, accumulator: (step + program[step]['ar'], accumulator),\n",
    "        'acc': lambda step, accumulator: (step + 1, accumulator + program[step]['ar'])\n",
    "    }\n",
    "    isLooping = True\n",
    "    while program[step]['visited']== False:\n",
    "        program[step]['visited'] = True\n",
    "        step, accumulator = switcher[program[step]['op']](step, accumulator)\n",
    "        if step > len(program) - 1 :\n",
    "            isLooping = False\n",
    "            break            \n",
    "    return accumulator, isLooping"
   ]
  },
  {
   "cell_type": "code",
   "execution_count": 6,
   "metadata": {},
   "outputs": [
    {
     "name": "stdout",
     "output_type": "stream",
     "text": [
      "(1528, True)\n"
     ]
    }
   ],
   "source": [
    "print(run_program(copy.deepcopy(program)))"
   ]
  },
  {
   "cell_type": "code",
   "execution_count": 7,
   "metadata": {},
   "outputs": [
    {
     "name": "stdout",
     "output_type": "stream",
     "text": [
      "640\n"
     ]
    }
   ],
   "source": [
    "swap = {\"nop\":\"jmp\",\"jmp\":\"nop\"}   \n",
    "for step_swap in range(len(program)):\n",
    "    program_modified = copy.deepcopy(program)\n",
    "    if program_modified[step_swap]['op'] == 'nop' or program_modified[step_swap]['op'] == 'jmp':\n",
    "        program_modified[step_swap]['op'] = swap[program_modified[step_swap]['op']]\n",
    "        accumulator, isLooping = run_program(program_modified)            \n",
    "        if not isLooping:\n",
    "            print(accumulator)"
   ]
  }
 ],
 "metadata": {
  "kernelspec": {
   "display_name": "Python 3",
   "language": "python",
   "name": "python3"
  },
  "language_info": {
   "codemirror_mode": {
    "name": "ipython",
    "version": 3
   },
   "file_extension": ".py",
   "mimetype": "text/x-python",
   "name": "python",
   "nbconvert_exporter": "python",
   "pygments_lexer": "ipython3",
   "version": "3.7.4"
  }
 },
 "nbformat": 4,
 "nbformat_minor": 2
}
