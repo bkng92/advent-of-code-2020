{
 "cells": [
  {
   "cell_type": "code",
   "execution_count": 1,
   "metadata": {},
   "outputs": [],
   "source": [
    "from collections import defaultdict\n",
    "import re"
   ]
  },
  {
   "cell_type": "code",
   "execution_count": 2,
   "metadata": {},
   "outputs": [],
   "source": [
    "with open('i.txt') as file:\n",
    "    lines = file.read().split('\\n')"
   ]
  },
  {
   "cell_type": "code",
   "execution_count": 3,
   "metadata": {},
   "outputs": [],
   "source": [
    "def pad(s): return '0'*(36-len(s)) + s"
   ]
  },
  {
   "cell_type": "code",
   "execution_count": 4,
   "metadata": {},
   "outputs": [],
   "source": [
    "mem = defaultdict()\n",
    "for line in lines:\n",
    "    if line.startswith('mask'):\n",
    "        mask = line.split('=')[1].strip()\n",
    "        mask_0 = int(mask.replace('X', '0'), 2)\n",
    "        mask_1 = int(mask.replace('X', '1'), 2)\n",
    "    else:\n",
    "        address = int(line.split('[')[1].split(']')[0])\n",
    "        number = int(line.split('=')[1])\n",
    "        mem[address] = (number & mask_1) | mask_0"
   ]
  },
  {
   "attachments": {
    "image.png": {
     "image/png": "[encoded data removed]"
    }
   },
   "cell_type": "markdown",
   "metadata": {},
   "source": [
    "![image.png](attachment:image.png)"
   ]
  },
  {
   "cell_type": "code",
   "execution_count": 5,
   "metadata": {},
   "outputs": [
    {
     "data": {
      "text/plain": [
       "14862056079561"
      ]
     },
     "execution_count": 5,
     "metadata": {},
     "output_type": "execute_result"
    }
   ],
   "source": [
    "# q1\n",
    "sum(mem.values())"
   ]
  },
  {
   "cell_type": "code",
   "execution_count": 6,
   "metadata": {},
   "outputs": [],
   "source": [
    "def pad(s): return '0'*(36-len(s)) + s\n",
    "\n",
    "def generate(masked_address, i):\n",
    "    if i >= len(x_positions): \n",
    "        mem[int(masked_address,2)] = number\n",
    "        return\n",
    "    generate(masked_address[:len(masked_address)-1-x_positions[i]] + '0' + masked_address[len(masked_address)-x_positions[i]:], i+1)\n",
    "    generate(masked_address[:len(masked_address)-1-x_positions[i]] + '1' + masked_address[len(masked_address)-x_positions[i]:], i+1)"
   ]
  },
  {
   "cell_type": "code",
   "execution_count": 7,
   "metadata": {
    "scrolled": true
   },
   "outputs": [],
   "source": [
    "mem = defaultdict()\n",
    "for line in lines:\n",
    "    if line.startswith('mask'):\n",
    "        mask = line.split('=')[1].strip()\n",
    "        mask_0 = int(re.sub('[X]', '0', mask), 2) # convert X to either 0 or 1 for bitwise operation for other digit\n",
    "        x_positions = [i for i, m in enumerate(reversed(mask)) if m == 'X']  \n",
    "    else:\n",
    "        address = int(line.split('[')[1].split(']')[0])\n",
    "        number = int(line.split('=')[1])\n",
    "        masked_address = pad(bin(address | mask_0)[2:])             \n",
    "        generate(masked_address, 0)"
   ]
  },
  {
   "cell_type": "code",
   "execution_count": 8,
   "metadata": {},
   "outputs": [
    {
     "data": {
      "text/plain": [
       "3296185383161"
      ]
     },
     "execution_count": 8,
     "metadata": {},
     "output_type": "execute_result"
    }
   ],
   "source": [
    "# q2\n",
    "sum(mem.values())"
   ]
  }
 ],
 "metadata": {
  "kernelspec": {
   "display_name": "Python 3",
   "language": "python",
   "name": "python3"
  },
  "language_info": {
   "codemirror_mode": {
    "name": "ipython",
    "version": 3
   },
   "file_extension": ".py",
   "mimetype": "text/x-python",
   "name": "python",
   "nbconvert_exporter": "python",
   "pygments_lexer": "ipython3",
   "version": "3.7.4"
  }
 },
 "nbformat": 4,
 "nbformat_minor": 2
}
