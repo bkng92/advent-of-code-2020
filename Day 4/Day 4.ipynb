{
 "cells": [
  {
   "cell_type": "code",
   "execution_count": 1,
   "metadata": {},
   "outputs": [],
   "source": [
    "import re"
   ]
  },
  {
   "cell_type": "code",
   "execution_count": 2,
   "metadata": {},
   "outputs": [],
   "source": [
    "with open('q.txt') as file:\n",
    "    passports = file.read().split('\\n\\n')"
   ]
  },
  {
   "cell_type": "code",
   "execution_count": 3,
   "metadata": {},
   "outputs": [],
   "source": [
    "def check_byr(x): return len(x) == 4 and 1920 <= int(x) <= 2002 \n",
    "def check_iyr(x): return len(x) == 4 and 2010 <= int(x) <= 2020\n",
    "def check_eyr(x): return len(x) == 4 and 2020 <= int(x) <= 2030\n",
    "def check_hgt(x):  \n",
    "    m = re.match(r'^(\\d+)(cm|in)$', x)\n",
    "    if m: return (m[2] == 'cm' and 150 <= int(m[1]) <= 193) or (m[2] == 'in' and 59 <= int(m[1]) <= 76)  \n",
    "def check_hcl(x): return re.match(r'#[0-9a-f]{6}', x)\n",
    "def check_ecl(x): return x in ['amb', 'blu', 'brn', 'gry', 'grn', 'hzl', 'oth']\n",
    "def check_pid(x): return re.match(r'^\\d{9}$', x)"
   ]
  },
  {
   "cell_type": "code",
   "execution_count": 4,
   "metadata": {},
   "outputs": [],
   "source": [
    "rules = {\n",
    "    'byr': check_byr,\n",
    "    'iyr': check_iyr,\n",
    "    'eyr': check_eyr,\n",
    "    'hgt': check_hgt,\n",
    "    'hcl': check_hcl,\n",
    "    'ecl': check_ecl,\n",
    "    'pid': check_pid,\n",
    "}"
   ]
  },
  {
   "cell_type": "code",
   "execution_count": 5,
   "metadata": {
    "scrolled": false
   },
   "outputs": [
    {
     "name": "stdout",
     "output_type": "stream",
     "text": [
      "260\n",
      "153\n"
     ]
    }
   ],
   "source": [
    "valid1 = 0\n",
    "valid2 = 0\n",
    "required_fields=['eyr', 'hgt', 'hcl', 'pid', 'byr', 'ecl', 'iyr']\n",
    "for passport in passports:\n",
    "    fields = re.split('\\n| ',passport)\n",
    "    key_values = dict([field.split(':') for field in fields])\n",
    "    if all(required_field in key_values.keys() for required_field in required_fields):\n",
    "        valid1 += 1\n",
    "        if all(rule(key_values[key]) for key, rule in rules.items()):\n",
    "                valid2 += 1\n",
    "    \n",
    "print(valid1)\n",
    "print(valid2)"
   ]
  },
  {
   "cell_type": "code",
   "execution_count": null,
   "metadata": {},
   "outputs": [],
   "source": []
  }
 ],
 "metadata": {
  "kernelspec": {
   "display_name": "Python 3",
   "language": "python",
   "name": "python3"
  },
  "language_info": {
   "codemirror_mode": {
    "name": "ipython",
    "version": 3
   },
   "file_extension": ".py",
   "mimetype": "text/x-python",
   "name": "python",
   "nbconvert_exporter": "python",
   "pygments_lexer": "ipython3",
   "version": "3.7.4"
  }
 },
 "nbformat": 4,
 "nbformat_minor": 2
}
