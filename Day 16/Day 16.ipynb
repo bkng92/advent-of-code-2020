{
 "cells": [
  {
   "cell_type": "code",
   "execution_count": 1,
   "metadata": {},
   "outputs": [],
   "source": [
    "import re\n",
    "from collections import defaultdict\n",
    "import operator\n",
    "from functools import reduce"
   ]
  },
  {
   "cell_type": "code",
   "execution_count": 2,
   "metadata": {},
   "outputs": [],
   "source": [
    "with open('i.txt') as file:\n",
    "    lines = file.read().split('\\n\\n')\n",
    "    rules = lines[0].split('\\n')\n",
    "    myticket = lines[1].split('\\n')[1]\n",
    "    tickets = lines[2].split('\\n')[1:]"
   ]
  },
  {
   "cell_type": "code",
   "execution_count": 3,
   "metadata": {},
   "outputs": [],
   "source": [
    "ranges=[]\n",
    "for rule in rules:\n",
    "    m = re.search(r': (\\d+)-(\\d+) or (\\d+)-(\\d+)', rule)\n",
    "    if m: ranges.extend([((int(m[1]), int(m[2])), (int(m[3]), int(m[4])))])"
   ]
  },
  {
   "cell_type": "code",
   "execution_count": 4,
   "metadata": {},
   "outputs": [],
   "source": [
    "flattened_ranges=[]\n",
    "[flattened_ranges.extend([a, b]) for a,b in ranges]\n",
    "\n",
    "s = 0\n",
    "for ticket in tickets[:]:\n",
    "    for value in ticket.split(','):\n",
    "        if not any(r[0] <= int(value) <= r[1] for r in flattened_ranges):\n",
    "            s+= int(value)\n",
    "            tickets.remove(ticket)\n",
    "            continue"
   ]
  },
  {
   "cell_type": "code",
   "execution_count": 5,
   "metadata": {},
   "outputs": [
    {
     "name": "stdout",
     "output_type": "stream",
     "text": [
      "28882\n"
     ]
    }
   ],
   "source": [
    "# q1\n",
    "print(s)"
   ]
  },
  {
   "cell_type": "code",
   "execution_count": 6,
   "metadata": {},
   "outputs": [],
   "source": [
    "ranges_d = defaultdict(int, {v: k for v, k in enumerate(ranges,0)})\n",
    "valid = defaultdict(int, {k:set([x for x in range(len(ranges))]) for k in range(len(ranges))})"
   ]
  },
  {
   "cell_type": "code",
   "execution_count": 7,
   "metadata": {},
   "outputs": [],
   "source": [
    "for i in range(len(ranges)):\n",
    "    for j in list(valid[i])[:]:\n",
    "        for ticket in tickets:\n",
    "            values = ticket.split(',')\n",
    "            if not any(r[0] <= int(values[j]) <= r[1] for r in ranges_d[i]):\n",
    "                valid[i].remove(j)"
   ]
  },
  {
   "cell_type": "code",
   "execution_count": 8,
   "metadata": {},
   "outputs": [
    {
     "name": "stdout",
     "output_type": "stream",
     "text": [
      "10 {2}\n",
      "12 {1, 2}\n",
      "11 {1, 2, 5}\n",
      "6 {1, 2, 5, 19}\n",
      "9 {1, 2, 5, 15, 19}\n",
      "1 {1, 2, 5, 11, 15, 19}\n",
      "3 {1, 2, 5, 11, 12, 15, 19}\n",
      "4 {1, 2, 5, 11, 12, 13, 15, 19}\n",
      "0 {1, 2, 3, 5, 11, 12, 13, 15, 19}\n",
      "2 {1, 2, 3, 5, 11, 12, 13, 15, 18, 19}\n",
      "5 {1, 2, 3, 5, 6, 11, 12, 13, 15, 18, 19}\n",
      "8 {1, 2, 3, 5, 6, 10, 11, 12, 13, 15, 18, 19}\n",
      "19 {0, 1, 2, 3, 5, 6, 10, 11, 12, 13, 15, 18, 19}\n",
      "17 {0, 1, 2, 3, 5, 6, 10, 11, 12, 13, 15, 16, 18, 19}\n",
      "15 {0, 1, 2, 3, 5, 6, 8, 10, 11, 12, 13, 15, 16, 18, 19}\n",
      "13 {0, 1, 2, 3, 5, 6, 7, 8, 10, 11, 12, 13, 15, 16, 18, 19}\n",
      "16 {0, 1, 2, 3, 4, 5, 6, 7, 8, 10, 11, 12, 13, 15, 16, 18, 19}\n",
      "14 {0, 1, 2, 3, 4, 5, 6, 7, 8, 10, 11, 12, 13, 14, 15, 16, 18, 19}\n",
      "7 {0, 1, 2, 3, 4, 5, 6, 7, 8, 10, 11, 12, 13, 14, 15, 16, 17, 18, 19}\n",
      "18 {0, 1, 2, 3, 4, 5, 6, 7, 8, 9, 10, 11, 12, 13, 14, 15, 16, 17, 18, 19}\n"
     ]
    }
   ],
   "source": [
    "previous = set()\n",
    "for key in sorted(valid, key=lambda x:len(valid[x]), reverse=False):\n",
    "    print(key, valid[key])\n",
    "    temp = valid[key]\n",
    "    valid[key] = valid[key] - previous\n",
    "    previous = temp"
   ]
  },
  {
   "cell_type": "code",
   "execution_count": 9,
   "metadata": {},
   "outputs": [
    {
     "name": "stdout",
     "output_type": "stream",
     "text": [
      "1429779530273\n"
     ]
    }
   ],
   "source": [
    "#q2\n",
    "x = reduce(operator.mul, [int(myticket.split(',')[j]) for j in [list(valid[i])[0] for i in range(6)]], 1)\n",
    "print(x)    "
   ]
  }
 ],
 "metadata": {
  "kernelspec": {
   "display_name": "Python 3",
   "language": "python",
   "name": "python3"
  },
  "language_info": {
   "codemirror_mode": {
    "name": "ipython",
    "version": 3
   },
   "file_extension": ".py",
   "mimetype": "text/x-python",
   "name": "python",
   "nbconvert_exporter": "python",
   "pygments_lexer": "ipython3",
   "version": "3.7.4"
  }
 },
 "nbformat": 4,
 "nbformat_minor": 2
}
