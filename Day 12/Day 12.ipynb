{
 "cells": [
  {
   "cell_type": "code",
   "execution_count": 1,
   "metadata": {},
   "outputs": [],
   "source": [
    "import numpy as np\n",
    "import math"
   ]
  },
  {
   "cell_type": "code",
   "execution_count": 2,
   "metadata": {},
   "outputs": [],
   "source": [
    "with open('i.txt') as file:\n",
    "    navs_ori = file.read().split('\\n')"
   ]
  },
  {
   "cell_type": "code",
   "execution_count": 3,
   "metadata": {},
   "outputs": [],
   "source": [
    "navs = [('E', 0)]\n",
    "navs.extend([(nav[0], int(nav[1:])) for nav in navs_ori])"
   ]
  },
  {
   "cell_type": "code",
   "execution_count": 4,
   "metadata": {},
   "outputs": [],
   "source": [
    "def rotate(matrix, theta):\n",
    "    theta = -math.radians(theta)\n",
    "    c, s = int(np.cos(theta)), int(np.sin(theta))\n",
    "    R = np.array(((c, -s), (s, c)))\n",
    "    return np.matmul(matrix, R)\n",
    "\n",
    "def l(state, d): state['rotation'] += d % 360\n",
    "def r(state, d): state['rotation'] -= d % 360\n",
    "def n(state, d): state['distance'] += np.array([0, 1]) * d\n",
    "def s(state, d): state['distance'] += np.array([0, -1]) * d\n",
    "def e(state, d): state['distance'] += np.array([1, 0]) * d\n",
    "def w(state, d): state['distance'] += np.array([-1, 0]) * d\n",
    "def f(state, d): state['distance'] += rotate([1,0],state['rotation']) * d\n",
    "    \n",
    "operations = {\n",
    "    'L': l,\n",
    "    'R': r,\n",
    "    'F': f,\n",
    "    'N': n,\n",
    "    'S': s,\n",
    "    'E': e,\n",
    "    'W': w,\n",
    "}"
   ]
  },
  {
   "cell_type": "code",
   "execution_count": 5,
   "metadata": {},
   "outputs": [],
   "source": [
    "state = {\n",
    "    'rotation' : 0,\n",
    "    'distance': np.array([0, 0])\n",
    "}\n",
    "for nav in navs:\n",
    "    operations[nav[0]](state, nav[1])"
   ]
  },
  {
   "cell_type": "code",
   "execution_count": 6,
   "metadata": {},
   "outputs": [
    {
     "data": {
      "text/plain": [
       "1482"
      ]
     },
     "execution_count": 6,
     "metadata": {},
     "output_type": "execute_result"
    }
   ],
   "source": [
    "#q1 ans\n",
    "sum(abs(state['distance']))"
   ]
  },
  {
   "cell_type": "code",
   "execution_count": 7,
   "metadata": {},
   "outputs": [],
   "source": [
    "def rotate(matrix, theta):\n",
    "    theta = -math.radians(theta)\n",
    "    c, s = int(np.cos(theta)), int(np.sin(theta))\n",
    "    R = np.array(((c, -s), (s, c)))\n",
    "    return np.matmul(matrix, R)\n",
    "\n",
    "def l(state, d): state['waypoint'] = rotate(state['waypoint'], d)\n",
    "def r(state, d): state['waypoint'] = rotate(state['waypoint'], -d)    \n",
    "def n(state, d): state['waypoint'] += np.array([0, 1]) * d\n",
    "def s(state, d): state['waypoint'] += np.array([0, -1]) * d\n",
    "def e(state, d): state['waypoint'] += np.array([1, 0]) * d\n",
    "def w(state, d): state['waypoint'] += np.array([-1, 0]) * d\n",
    "def f(state, d): state['distance'] += state['waypoint'] * d\n",
    "\n",
    "operations = {\n",
    "    'L': l,\n",
    "    'R': r,\n",
    "    'F': f,\n",
    "    'N': n,\n",
    "    'S': s,\n",
    "    'E': e,\n",
    "    'W': w,\n",
    "}"
   ]
  },
  {
   "cell_type": "code",
   "execution_count": 8,
   "metadata": {},
   "outputs": [],
   "source": [
    "state = {\n",
    "    'waypoint' : np.array([10, 1]),\n",
    "    'distance': np.array([0, 0])\n",
    "}\n",
    "for nav in navs:\n",
    "    operations[nav[0]](state, nav[1])"
   ]
  },
  {
   "cell_type": "code",
   "execution_count": 9,
   "metadata": {},
   "outputs": [
    {
     "data": {
      "text/plain": [
       "48739"
      ]
     },
     "execution_count": 9,
     "metadata": {},
     "output_type": "execute_result"
    }
   ],
   "source": [
    "#q2 ans\n",
    "sum(abs(state['distance']))"
   ]
  },
  {
   "cell_type": "code",
   "execution_count": null,
   "metadata": {},
   "outputs": [],
   "source": []
  }
 ],
 "metadata": {
  "kernelspec": {
   "display_name": "Python 3",
   "language": "python",
   "name": "python3"
  },
  "language_info": {
   "codemirror_mode": {
    "name": "ipython",
    "version": 3
   },
   "file_extension": ".py",
   "mimetype": "text/x-python",
   "name": "python",
   "nbconvert_exporter": "python",
   "pygments_lexer": "ipython3",
   "version": "3.7.4"
  }
 },
 "nbformat": 4,
 "nbformat_minor": 2
}
