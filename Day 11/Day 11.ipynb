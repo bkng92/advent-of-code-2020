{
 "cells": [
  {
   "cell_type": "code",
   "execution_count": 1,
   "metadata": {},
   "outputs": [],
   "source": [
    "import copy"
   ]
  },
  {
   "cell_type": "code",
   "execution_count": 2,
   "metadata": {},
   "outputs": [],
   "source": [
    "with open('i.txt') as file:\n",
    "    rows = file.read().split('\\n')"
   ]
  },
  {
   "cell_type": "code",
   "execution_count": 3,
   "metadata": {},
   "outputs": [],
   "source": [
    "rows = [list(row) for row in rows]"
   ]
  },
  {
   "cell_type": "code",
   "execution_count": 4,
   "metadata": {},
   "outputs": [],
   "source": [
    "adjacents=[\n",
    "    [0,1], #up\n",
    "    [1,0], #right\n",
    "    [0,-1], #down\n",
    "    [-1,0], #left\n",
    "    [1,1], #right up\n",
    "    [1,-1], #right down\n",
    "    [-1,1], #left up\n",
    "    [-1,-1], #left down    \n",
    "]   "
   ]
  },
  {
   "cell_type": "code",
   "execution_count": 5,
   "metadata": {},
   "outputs": [],
   "source": [
    "def modify(i, j, prev, curr):\n",
    "    adj_occupied_count = sum([1 for di, dj in adjacents if 0<=i+di<len(prev) and 0<=j+dj<len(prev[0]) and prev[i+di][j+dj]=='#'])\n",
    "    if prev[i][j] == 'L' and adj_occupied_count == 0 : curr[i][j] = '#'\n",
    "    elif prev[i][j] == '#' and adj_occupied_count >= 4 : curr[i][j] = 'L'"
   ]
  },
  {
   "cell_type": "code",
   "execution_count": 6,
   "metadata": {},
   "outputs": [],
   "source": [
    "def modify_enhanced(i, j, prev, curr):\n",
    "    adj_occupied_count = 0\n",
    "    for d in adjacents:\n",
    "        di = d[0]\n",
    "        dj = d[1]\n",
    "\n",
    "        while 0<=i+di<len(prev) and 0<=j+dj<len(prev[0]):\n",
    "            if prev[i+di][j+dj]=='#':\n",
    "                adj_occupied_count += 1\n",
    "                break\n",
    "            elif prev[i+di][j+dj]=='L':\n",
    "                break\n",
    "                \n",
    "            di+=d[0]\n",
    "            dj+=d[1]\n",
    "            \n",
    "    if prev[i][j] == 'L' and adj_occupied_count == 0 : curr[i][j] = '#'\n",
    "    elif prev[i][j] == '#' and adj_occupied_count >= 5 : curr[i][j] = 'L'"
   ]
  },
  {
   "cell_type": "code",
   "execution_count": 7,
   "metadata": {},
   "outputs": [],
   "source": [
    "curr = copy.deepcopy(rows)\n",
    "while True:\n",
    "    prev = copy.deepcopy(curr)\n",
    "    curr = copy.deepcopy(prev)\n",
    "    for i in range(len(rows)):\n",
    "        for j in range(len(rows[0])):\n",
    "            if not rows[i][j]=='.': modify(i, j, prev, curr)        \n",
    "            else: continue\n",
    "    if curr == prev: break"
   ]
  },
  {
   "cell_type": "code",
   "execution_count": 8,
   "metadata": {},
   "outputs": [
    {
     "data": {
      "text/plain": [
       "2289"
      ]
     },
     "execution_count": 8,
     "metadata": {},
     "output_type": "execute_result"
    }
   ],
   "source": [
    "sum(x.count('#') for x in curr)"
   ]
  },
  {
   "cell_type": "code",
   "execution_count": null,
   "metadata": {},
   "outputs": [],
   "source": [
    "curr = copy.deepcopy(rows)\n",
    "while True:\n",
    "    prev = copy.deepcopy(curr)\n",
    "    curr = copy.deepcopy(prev)\n",
    "    for i in range(len(rows)):\n",
    "        for j in range(len(rows[0])):\n",
    "            if not rows[i][j]=='.': modify_enhanced(i, j, prev, curr)        \n",
    "            else: continue\n",
    "    if curr == prev: break"
   ]
  },
  {
   "cell_type": "code",
   "execution_count": null,
   "metadata": {},
   "outputs": [],
   "source": [
    "sum(x.count('#') for x in curr)"
   ]
  },
  {
   "cell_type": "code",
   "execution_count": null,
   "metadata": {},
   "outputs": [],
   "source": []
  }
 ],
 "metadata": {
  "kernelspec": {
   "display_name": "Python 3",
   "language": "python",
   "name": "python3"
  },
  "language_info": {
   "codemirror_mode": {
    "name": "ipython",
    "version": 3
   },
   "file_extension": ".py",
   "mimetype": "text/x-python",
   "name": "python",
   "nbconvert_exporter": "python",
   "pygments_lexer": "ipython3",
   "version": "3.7.4"
  }
 },
 "nbformat": 4,
 "nbformat_minor": 2
}
