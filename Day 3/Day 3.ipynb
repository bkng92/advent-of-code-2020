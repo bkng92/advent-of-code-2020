{
 "cells": [
  {
   "cell_type": "code",
   "execution_count": 99,
   "metadata": {},
   "outputs": [],
   "source": [
    "with open('q.txt', newline='') as f:\n",
    "    A = [row.rstrip('\\r\\n') for row in f.readlines()]"
   ]
  },
  {
   "cell_type": "code",
   "execution_count": 86,
   "metadata": {},
   "outputs": [
    {
     "name": "stdout",
     "output_type": "stream",
     "text": [
      "289\n"
     ]
    }
   ],
   "source": [
    "count = 0\n",
    "hori = 3\n",
    "for row in A[1:]:\n",
    "    if row[hori % (len(row))] == '#':\n",
    "        count += 1\n",
    "    hori += 3\n",
    "print(count)"
   ]
  },
  {
   "cell_type": "code",
   "execution_count": 100,
   "metadata": {},
   "outputs": [],
   "source": [
    "slopes = [\n",
    "    [1,1],\n",
    "    [3,1],\n",
    "    [5,1],\n",
    "    [7,1],\n",
    "    [1,2]\n",
    "]"
   ]
  },
  {
   "cell_type": "code",
   "execution_count": 104,
   "metadata": {},
   "outputs": [
    {
     "name": "stdout",
     "output_type": "stream",
     "text": [
      "5522401584\n"
     ]
    }
   ],
   "source": [
    "total = 1\n",
    "for slope in slopes:\n",
    "    hori_inc = slope[0]\n",
    "    verti_inc = slope[1]\n",
    "    \n",
    "    count = 0\n",
    "    hori = hori_inc\n",
    "    for row in A[verti_inc::verti_inc]:\n",
    "        if row[hori % (len(row))] == '#':\n",
    "            count += 1\n",
    "        hori += hori_inc\n",
    "    \n",
    "    total *= count\n",
    "    \n",
    "print(total)"
   ]
  },
  {
   "cell_type": "code",
   "execution_count": null,
   "metadata": {},
   "outputs": [],
   "source": []
  }
 ],
 "metadata": {
  "kernelspec": {
   "display_name": "Python 3",
   "language": "python",
   "name": "python3"
  },
  "language_info": {
   "codemirror_mode": {
    "name": "ipython",
    "version": 3
   },
   "file_extension": ".py",
   "mimetype": "text/x-python",
   "name": "python",
   "nbconvert_exporter": "python",
   "pygments_lexer": "ipython3",
   "version": "3.7.4"
  }
 },
 "nbformat": 4,
 "nbformat_minor": 2
}
