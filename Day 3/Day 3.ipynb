{
 "cells": [
  {
   "cell_type": "code",
   "execution_count": 99,
   "metadata": {},
   "outputs": [],
   "source": [
    "with open('q.txt', newline='') as f:\n",
    "    A = [row.rstrip('\\r\\n') for row in f.readlines()]"
   ]
  },
  {
   "cell_type": "code",
   "execution_count": 86,
   "metadata": {},
   "outputs": [
    {
     "name": "stdout",
     "output_type": "stream",
     "text": [
      "289\n"
     ]
    }
   ],
   "source": [
    "count = 0\n",
    "hori = 3\n",
    "for row in A[1:]:\n",
    "    if row[hori % (len(row))] == '#':\n",
    "        count += 1\n",
    "    hori += 3\n",
    "print(count)"
   ]
  },
  {
   "cell_type": "code",
   "execution_count": 100,
   "metadata": {},
   "outputs": [],
   "source": [
    "slopes = [\n",
    "    [1,1],\n",
    "    [3,1],\n",
    "    [5,1],\n",
    "    [7,1],\n",
    "    [1,2]\n",
    "]"
   ]
  },
  {
   "cell_type": "code",
   "execution_count": 102,
   "metadata": {},
   "outputs": [
    {
     "name": "stdout",
     "output_type": "stream",
     "text": [
      "84\n",
      "289\n",
      "89\n",
      "71\n",
      "36\n",
      "5522401584\n"
     ]
    }
   ],
   "source": [
    "total = 1\n",
    "for slope in slopes:\n",
    "    hori_inc = slope[0]\n",
    "    verti_inc = slope[1]\n",
    "    \n",
    "    count = 0\n",
    "    hori = 0\n",
    "    for row in A[0::verti_inc]:\n",
    "        if row[hori % (len(row))] == '#':\n",
    "            count += 1\n",
    "        hori += hori_inc\n",
    "    \n",
    "    print(count)\n",
    "    total *= count\n",
    "print(total)"
   ]
  },
  {
   "cell_type": "code",
   "execution_count": 96,
   "metadata": {},
   "outputs": [
    {
     "name": "stdout",
     "output_type": "stream",
     "text": [
      "5522401584\n"
     ]
    }
   ],
   "source": [
    "data= A\n",
    "\n",
    "pattern_length = len(data[0])\n",
    "counts = 1\n",
    "\n",
    "# Right 1, down 1.\n",
    "start = 0\n",
    "count = 0\n",
    "for row in data:\n",
    "    if row[start % pattern_length] == \"#\":\n",
    "        count += 1\n",
    "    start += 1\n",
    "\n",
    "counts *= count\n",
    "\n",
    "# Right 3, down 1.\n",
    "start = 0\n",
    "count = 0\n",
    "for row in data:\n",
    "    if row[start % pattern_length] == \"#\":\n",
    "        count += 1\n",
    "    start += 3\n",
    "\n",
    "counts *= count\n",
    "\n",
    "# Right 5, down 1.\n",
    "start = 0\n",
    "count = 0\n",
    "for row in data:\n",
    "    if row[start % pattern_length] == \"#\":\n",
    "        count += 1\n",
    "    start += 5\n",
    "\n",
    "counts *= count\n",
    "\n",
    "# Right 7, down 1.\n",
    "start = 0\n",
    "count = 0\n",
    "for row in data:\n",
    "    if row[start % pattern_length] == \"#\":\n",
    "        count += 1\n",
    "    start += 7\n",
    "\n",
    "counts *= count\n",
    "\n",
    "# Right 1, down 2.\n",
    "start = 0\n",
    "count = 0\n",
    "for idx, row in enumerate(data):\n",
    "    if idx % 2 != 0:  # odd number\n",
    "        continue\n",
    "    if row[start % pattern_length] == \"#\":\n",
    "        count += 1\n",
    "    start += 1\n",
    "\n",
    "counts *= count\n",
    "\n",
    "print(counts)"
   ]
  },
  {
   "cell_type": "code",
   "execution_count": null,
   "metadata": {},
   "outputs": [],
   "source": []
  }
 ],
 "metadata": {
  "kernelspec": {
   "display_name": "Python 3",
   "language": "python",
   "name": "python3"
  },
  "language_info": {
   "codemirror_mode": {
    "name": "ipython",
    "version": 3
   },
   "file_extension": ".py",
   "mimetype": "text/x-python",
   "name": "python",
   "nbconvert_exporter": "python",
   "pygments_lexer": "ipython3",
   "version": "3.7.4"
  }
 },
 "nbformat": 4,
 "nbformat_minor": 2
}
