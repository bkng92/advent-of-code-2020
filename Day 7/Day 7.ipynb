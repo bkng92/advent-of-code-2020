{
 "cells": [
  {
   "cell_type": "code",
   "execution_count": 1,
   "metadata": {},
   "outputs": [],
   "source": [
    "import re\n",
    "import networkx as nx"
   ]
  },
  {
   "cell_type": "code",
   "execution_count": 2,
   "metadata": {},
   "outputs": [],
   "source": [
    "with open('i.txt') as file:\n",
    "    rules_str = file.read().split('\\n')"
   ]
  },
  {
   "cell_type": "code",
   "execution_count": 3,
   "metadata": {},
   "outputs": [],
   "source": [
    "colours=[]\n",
    "for rule in rules_str:\n",
    "    m = re.match(r'^([\\w\\s]+) bags contain (.+)\\.', rule)   \n",
    "    parent = m[1]\n",
    "    for bag in m[2].split(\", \"):\n",
    "        m = re.match(r'^(\\d+) ([\\w\\s]+) bags*', bag) \n",
    "        if m: \n",
    "            quantity = int(m[1])\n",
    "            child = m[2]\n",
    "            colours.append((parent,child, {'weight': quantity}))"
   ]
  },
  {
   "cell_type": "code",
   "execution_count": 4,
   "metadata": {},
   "outputs": [
    {
     "name": "stdout",
     "output_type": "stream",
     "text": [
      "101\n"
     ]
    }
   ],
   "source": [
    "G = nx.DiGraph()\n",
    "G.add_edges_from(colours)   \n",
    "\n",
    "print(len(nx.ancestors(G, \"shiny gold\")))"
   ]
  },
  {
   "cell_type": "code",
   "execution_count": 5,
   "metadata": {},
   "outputs": [
    {
     "name": "stdout",
     "output_type": "stream",
     "text": [
      "108636\n"
     ]
    }
   ],
   "source": [
    "def calculate(node):\n",
    "    count = 1\n",
    "    for n in G.successors(node):\n",
    "        count += G[node][n]['weight'] * calculate(n)\n",
    "    return count\n",
    "\n",
    "print(calculate('shiny gold')-1)"
   ]
  },
  {
   "cell_type": "code",
   "execution_count": null,
   "metadata": {},
   "outputs": [],
   "source": []
  }
 ],
 "metadata": {
  "kernelspec": {
   "display_name": "Python 3",
   "language": "python",
   "name": "python3"
  },
  "language_info": {
   "codemirror_mode": {
    "name": "ipython",
    "version": 3
   },
   "file_extension": ".py",
   "mimetype": "text/x-python",
   "name": "python",
   "nbconvert_exporter": "python",
   "pygments_lexer": "ipython3",
   "version": "3.7.4"
  }
 },
 "nbformat": 4,
 "nbformat_minor": 2
}
